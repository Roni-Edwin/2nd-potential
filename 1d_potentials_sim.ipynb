{
  "nbformat": 4,
  "nbformat_minor": 0,
  "metadata": {
    "colab": {
      "provenance": []
    },
    "kernelspec": {
      "name": "python3",
      "display_name": "Python 3"
    },
    "language_info": {
      "name": "python"
    }
  },
  "cells": [
    {
      "cell_type": "code",
      "execution_count": 7,
      "metadata": {
        "id": "KSQpXtt_xIMt"
      },
      "outputs": [],
      "source": [
        "import numpy as np\n",
        "import math\n",
        "import random\n",
        "import matplotlib.pyplot as plt\n",
        "\n",
        "\n",
        "def rand(eps):\n",
        "    return eps*(2*random.random()-1)\n",
        "\n",
        "def smart_grad_desc(x,f,df,iters=50,eta=1, eps=0.0000):\n",
        "    \"\"\"\n",
        "    Basically a standard gradient descent, but repeatedley halves the learning rate\n",
        "    until new value is less than old one.\n",
        "    \"\"\"\n",
        "    x_new=x\n",
        "    grad=df(x)\n",
        "    anchor=f(x)\n",
        "    num=0\n",
        "    tent_val=anchor\n",
        "    while tent_val>=anchor+eps:\n",
        "        eta=eta/2\n",
        "        num=num+1\n",
        "        x_new=x-eta*grad\n",
        "        tent_val=f(x_new)\n",
        "        if num>=iters:\n",
        "            break\n",
        "    return x_new,tent_val\n",
        "\n",
        "exp=math.exp\n",
        "def X(param):\n",
        "  return math.cos(param)\n",
        "\n",
        "def dX(param):\n",
        "  return -math.sin(param)\n",
        "\n",
        "log=np.log\n",
        "def Xinv(param):\n",
        "  return np.arccos(param)\n",
        "\n",
        "\n",
        "\n",
        "\n",
        "\n",
        "def optimize_potential(p,dp,radius,num_points,iters,init_points=None):\n",
        "  \"\"\"\n",
        "  finding the optimal configuration of points to minimize the average potential energy per particle. p and dp are the potential and\n",
        "  its derivative respectively, iters is the number of iterations the gradient descent algo runs for, and init_points allos the option of\n",
        "  specifying the initial location of the points. if None, randomly initialized. Ideally p should be an even function.\n",
        "  \"\"\"\n",
        "  if init_points is not None:\n",
        "    if len(init_points)!=num_points:\n",
        "      raise ValueError('Wrong number of points')\n",
        "    init=[Xinv(point/radius) for point in init_points]\n",
        "  else:\n",
        "    init=[radius*random.random() for _ in range(num_points)]\n",
        "\n",
        "  def func(theta):\n",
        "    return (1/num_points)*sum(p(radius*X(a1)-radius*X(a2)) for a1 in theta for a2 in theta if a1!=a2)\n",
        "\n",
        "  def dfunc(theta):\n",
        "    derivs=[radius*dX(theta[i])*sum(dp(radius*X(theta[i])-radius*X(theta[j])) for j in range(len(theta)) if j!=i) for i in range(len(theta))]\n",
        "    return (2*radius/(num_points**2))*np.array(derivs)\n",
        "\n",
        "  def points_of(theta):\n",
        "    x=[radius*X(angle) for angle in theta]\n",
        "    y=[0 for _ in range(len(theta))]\n",
        "    return x,y\n",
        "\n",
        "  def plot(xs,ys, circle=False):\n",
        "    plt.scatter(xs,ys,4,'k')\n",
        "    #plt.axis('equal')\n",
        "    plt.xlim(-radius-1,radius+1)\n",
        "    plt.grid()\n",
        "    plt.show()\n",
        "\n",
        "  test=init\n",
        "  for _ in range(iters):\n",
        "    test,value=smart_grad_desc(test, func, dfunc)\n",
        "    if _%10==0:\n",
        "        xs,ys  =points_of(test)\n",
        "        plot(xs,ys)\n",
        "        print(f' On {_},  value of potential is {value}')\n",
        "\n",
        "\n",
        "\n",
        "\n",
        "\n"
      ]
    },
    {
      "cell_type": "code",
      "source": [
        "expo=4\n",
        "varphi=lambda x: 1/(1+x**expo)\n",
        "dvarphi=lambda x:-(expo*(x**(expo-1)))/((1+x**expo)**2)\n",
        "optimize_potential(varphi, dvarphi, 20,200,2000)"
      ],
      "metadata": {
        "id": "vu7w1Yvn7uzI"
      },
      "execution_count": null,
      "outputs": []
    }
  ]
}