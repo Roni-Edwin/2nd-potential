{
 "cells": [
  {
   "cell_type": "code",
   "execution_count": 95,
   "id": "3faaee26-a71f-4d35-980f-e27cc8023466",
   "metadata": {},
   "outputs": [
    {
     "data": {
      "text/plain": [
       "check (generic function with 1 method)"
      ]
     },
     "execution_count": 95,
     "metadata": {},
     "output_type": "execute_result"
    }
   ],
   "source": [
    "using IntervalArithmetic\n",
    "#interval representations for pi and sqrt(2)\n",
    "pi_n=pi..pi \n",
    "q2=sqrt(2..2)\n",
    "\n",
    "#fourier transform of phi(x), phi_h\n",
    "function phi_h(xi)\n",
    "    return pi_n*exp(-q2*pi_n*abs(xi))*cos(q2*pi_n*abs(xi)-pi_n/4)\n",
    "end\n",
    "\n",
    "#B(\\xi,p)\n",
    "function B(xi,p)\n",
    "    term1=4*p*xi^2*abs(phi_h(xi))/(p^2-2*xi^2)\n",
    "    term2=2*xi^2*exp(-pi_n*p)*(1/(10*(p-q2*xi))+15/(100*(p+q2*xi)^2))\n",
    "    return term1+term2\n",
    "end\n",
    "\n",
    "#H(\\xi,n)\n",
    "function H(xi,n)\n",
    "    val=pi_n*(-1)^n*exp(-pi_n*abs(n)) #phi_h(n/sqrt(2))\n",
    "    val=val/q2\n",
    "    res=2*xi^2*(phi_h(xi)-val)\n",
    "    return res/((n-q2*xi)^2)\n",
    "end\n",
    "\n",
    "lim=-(pi_n/q2)*tanh(pi_n/2) #\\sum_{n \\in \\mathbb{Z}}phi_h(n/sqrt(2)).\n",
    "#want to show R_low>=lim\n",
    "\n",
    "eps=2^(-6)\n",
    "\n",
    "\n",
    "function H_tilde(xi,n)\n",
    "    diff=abs(xi*q2-n)\n",
    "    if (diff>=eps || n<0)\n",
    "        return H(xi,n)\n",
    "    end\n",
    "    return -(n^2/2)*q2*pi_n^3*((-1)^n)*exp(-pi_n*n)-(xi^2/6)*diff*exp(pi_n*diff)*8*pi_n^4*exp(-pi_n*q2*xi)\n",
    "end\n",
    "          \n",
    "#lower bound for \\mathcal{R}(\\xi)\n",
    "function R_low(xi,p)\n",
    "    inter=phi_h(xi)-pi_n/q2 #phi_h(\\xi)-phi_h(0)\n",
    "    for n=1:p\n",
    "        inter=inter+H_tilde(xi,n)+H_tilde(xi,-n)\n",
    "    end\n",
    "    return inter-B(xi,p)\n",
    "end\n",
    "\n",
    "\n",
    "\n",
    "function check(lower,upper,p)\n",
    "    beg=lower\n",
    "    print(beg, \"\\n\")\n",
    "    last=9.0\n",
    "    temp=beg..last #iteratively checking R_low(xi,p)>=lim on interval tem[beg,last]\n",
    "    while beg<upper+1/1024\n",
    "        res=R_low(temp,p) #range of values of R_low([beg,last])\n",
    "        iters=0\n",
    "        while !(((res ∩ lim)==∅) & (res>=lim)) #iteratively decrease last until R_low([temp])>=last\n",
    "            last=(beg+last)/2\n",
    "            temp=beg..last\n",
    "            res=R_low(temp,p)\n",
    "            iters=iters+1\n",
    "            if iters%10==0\n",
    "                print(\"On iteration \",iters, \"\\n\")\n",
    "            end\n",
    "            if iters>=50\n",
    "                last=nextfloat(beg)\n",
    "                iters=0\n",
    "            end\n",
    "        end\n",
    "        beg=last\n",
    "        last=beg+1\n",
    "        temp=beg..last\n",
    "        print(\"Checked up to \",beg, \"\\n\")  \n",
    "    end\n",
    "    print(\"Checked on interval \", \"[\",lower,\",\",upper,\"]\",\"\\n\")\n",
    "end\n",
    "\n",
    "\n",
    "        "
   ]
  },
  {
   "cell_type": "code",
   "execution_count": null,
   "id": "d1c7ab89-e333-4638-ab22-7472c97c9522",
   "metadata": {},
   "outputs": [],
   "source": [
    "check(0,9,10000)"
   ]
  },
  {
   "cell_type": "code",
   "execution_count": 97,
   "id": "bb53d29f-fd48-4951-bec3-e6658f80bd18",
   "metadata": {},
   "outputs": [
    {
     "data": {
      "text/plain": [
       "[0.297849, 0.29785]"
      ]
     },
     "execution_count": 97,
     "metadata": {},
     "output_type": "execute_result"
    }
   ],
   "source": [
    "function tau1_term(n)\n",
    "    return (142*pi_n*n^2*exp(-pi_n*n))/(9*q2)\n",
    "end\n",
    "\n",
    "function tau2_term(n)\n",
    "    return n^2*(8*n^2+6*(1+2*n)^2)*pi_n*exp(-pi_n*n)/q2\n",
    "end\n",
    "\n",
    "function tail_tau1(b)\n",
    "    return (142*pi_n*exp(-pi_n*b/3))/(9*q2*(1-exp(-pi_n/3)))\n",
    "end\n",
    "\n",
    "function tail_tau2(m)\n",
    "    return (62*pi_n*exp(-pi_n*m/5))/(q2*(1-exp(-pi_n/5)))\n",
    "end\n",
    "    \n",
    "\n",
    "b=100\n",
    "m=100\n",
    "val=tail_tau1(b)+tail_tau2(m)\n",
    "\n",
    "for n=2:b-1\n",
    "    val=val+tau1_term(n)\n",
    "end\n",
    "\n",
    "for n=5:m-1\n",
    "    val=val+tau2_term(n)\n",
    "end\n",
    "    \n",
    "val\n"
   ]
  },
  {
   "cell_type": "code",
   "execution_count": 93,
   "id": "34d75c9f-d127-4775-b302-a0b036d22dc9",
   "metadata": {},
   "outputs": [
    {
     "data": {
      "text/plain": [
       "[2.53911, 2.53912]"
      ]
     },
     "execution_count": 93,
     "metadata": {},
     "output_type": "execute_result"
    }
   ],
   "source": [
    "(6*8^2+1)/((q2*8+1)^2)"
   ]
  },
  {
   "cell_type": "code",
   "execution_count": 99,
   "id": "c53dd662-1f75-4deb-b6de-f011d2f031f5",
   "metadata": {},
   "outputs": [
    {
     "data": {
      "text/plain": [
       "[0.169985, 0.169986]"
      ]
     },
     "execution_count": 99,
     "metadata": {},
     "output_type": "execute_result"
    }
   ],
   "source": [
    "(5/2)*q2*pi_n*exp(-pi_n)-31/100-2*(370*8^4+25*8^2)*exp(-8*q2*pi_n)"
   ]
  }
 ],
 "metadata": {
  "kernelspec": {
   "display_name": "Julia 1.9.3",
   "language": "julia",
   "name": "julia-1.9"
  },
  "language_info": {
   "file_extension": ".jl",
   "mimetype": "application/julia",
   "name": "julia",
   "version": "1.9.3"
  }
 },
 "nbformat": 4,
 "nbformat_minor": 5
}
